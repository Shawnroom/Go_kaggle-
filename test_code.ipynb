{
 "cells": [
  {
   "cell_type": "code",
   "execution_count": 7,
   "metadata": {
    "collapsed": true
   },
   "outputs": [],
   "source": [
    "import pandas as pd\n",
    "import numpy as np\n",
    "from collections import OrderedDict\n",
    "\n",
    "from sklearn.ensemble import GradientBoostingRegressor\n",
    "from sklearn.model_selection import cross_val_score\n",
    "\n",
    "import warnings\n",
    "warnings.filterwarnings('ignore')"
   ]
  },
  {
   "cell_type": "code",
   "execution_count": 8,
   "metadata": {
    "collapsed": true
   },
   "outputs": [],
   "source": [
    "from sklearn.externals import joblib"
   ]
  },
  {
   "cell_type": "code",
   "execution_count": 9,
   "metadata": {
    "collapsed": true
   },
   "outputs": [],
   "source": [
    "def r2_score(y,y_hat):\n",
    "    ratio = np.sum((y-y_hat)**2) / np.sum((y-np.mean(y))**2)\n",
    "    r_square = 1 - ratio\n",
    "    return r_square"
   ]
  },
  {
   "cell_type": "code",
   "execution_count": 10,
   "metadata": {
    "collapsed": true
   },
   "outputs": [],
   "source": [
    "data = pd.read_csv(r'C:\\Users\\GN1504301\\Desktop\\競賽資料-utf8\\競賽資料-utf8\\租屋資訊trainset.csv',encoding='utf-8')"
   ]
  },
  {
   "cell_type": "code",
   "execution_count": 11,
   "metadata": {},
   "outputs": [],
   "source": [
    "data['cp_value'] = data['price'] / data['area']\n",
    "\n",
    "data['min_station_name'][data.address == '中山區天津街'] = '中山'\n",
    "data['min_station'][data.address == '中山區天津街'] = 700\n",
    "\n",
    "data['min_station_name'][data.address == '南港區林森路73巷'] = '南港展覽館'\n",
    "data['min_station'][data.address == '南港區林森路73巷'] = 2300\n",
    "\n",
    "data['min_station_name'][data.address == '中山區中原街'] = '行天宮'\n",
    "data['min_station'][data.address == '中山區中原街'] = 550\n",
    "\n",
    "data['min_station_name'][data.address == '中山區中山二路42巷'] = '雙連'\n",
    "data['min_station'][data.address == '中山區中山二路42巷'] = 400\n",
    "\n",
    "data['region_cp_mean'] = data.groupby('sectionname')['cp_value'].transform('mean')\n",
    "data['station_cp_mean'] = data.groupby('min_station_name')['cp_value'].transform('mean')\n",
    "\n",
    "region_mean_frame = data[['sectionname','region_cp_mean']].drop_duplicates(subset = 'sectionname')\n",
    "station_mean_frame = data[['min_station_name','station_cp_mean']].drop_duplicates(subset = 'min_station_name')"
   ]
  },
  {
   "cell_type": "code",
   "execution_count": 12,
   "metadata": {
    "collapsed": true
   },
   "outputs": [],
   "source": [
    "test_set = pd.read_csv(r'C:\\Users\\GN1504301\\Desktop\\競賽資料-utf8\\競賽資料-utf8\\租屋資訊testset.csv',encoding='big5')"
   ]
  },
  {
   "cell_type": "code",
   "execution_count": 13,
   "metadata": {},
   "outputs": [],
   "source": [
    "test_set['min_station_name'][test_set.address == '中山區天津街'] = '中山'\n",
    "test_set['min_station'][test_set.address == '中山區天津街'] = 700\n",
    "test_set['min_park'][test_set.address == '中山區天津街'] = 260\n",
    "\n",
    "test_set['min_station_name'][test_set.address == '南港區林森路73巷'] = '南港展覽館'\n",
    "test_set['min_station'][test_set.address == '南港區林森路73巷'] = 2300\n",
    "test_set['min_park'][test_set.address == '南港區林森路73巷'] = 550\n",
    "\n",
    "test_set['min_station_name'][test_set.address == '中山區中原街'] = '行天宮'\n",
    "test_set['min_station'][test_set.address == '中山區中原街'] = 550\n",
    "test_set['min_park'][test_set.address == '中山區中原街'] = 70\n",
    "\n",
    "test_set['min_station_name'][test_set.address == '中山區中山二路77巷'] = '雙連'\n",
    "test_set['min_station'][test_set.address == '中山區中山二路77巷'] = 400\n",
    "test_set['min_park'][test_set.address == '中山區中山二路77巷'] = 290\n"
   ]
  },
  {
   "cell_type": "code",
   "execution_count": 14,
   "metadata": {},
   "outputs": [
    {
     "data": {
      "text/plain": [
       "[]"
      ]
     },
     "execution_count": 14,
     "metadata": {},
     "output_type": "execute_result"
    }
   ],
   "source": [
    "test_list = test_set['min_station_name'].unique().tolist()\n",
    "train_list = data['min_station_name'].unique().tolist()\n",
    "\n",
    "[each for each in test_list if each not in train_list]"
   ]
  },
  {
   "cell_type": "code",
   "execution_count": 15,
   "metadata": {
    "collapsed": true
   },
   "outputs": [],
   "source": [
    "merge1 = pd.merge(test_set,station_mean_frame,on = 'min_station_name',how = 'inner')\n",
    "test_data = pd.merge(merge1,region_mean_frame,on = 'sectionname',how = 'inner')"
   ]
  },
  {
   "cell_type": "code",
   "execution_count": 16,
   "metadata": {},
   "outputs": [],
   "source": [
    "test_data['floor_ratio'] = test_data['floor'] / test_data['allfloor']\n",
    "test_data['floor_ratio'].fillna(0,inplace=True)\n",
    "\n",
    "test_data['walk_apart'] = 1\n",
    "test_data['walk_apart'][test_data['floor'] > 6] = 0\n",
    "\n",
    "test_data['first_floor'] = 0\n",
    "test_data['first_floor'][test_data['floor'] == 1] = 1\n",
    "\n",
    "test_data['ground_space'] = 0\n",
    "test_data['ground_space'][test_data['floor'] == 0] = 1"
   ]
  },
  {
   "cell_type": "code",
   "execution_count": 17,
   "metadata": {},
   "outputs": [
    {
     "data": {
      "text/plain": [
       "kind_name\n",
       "其他        22\n",
       "分租套房     479\n",
       "整層住家    2674\n",
       "獨立套房    1201\n",
       "車位       169\n",
       "雅房       327\n",
       "Name: id, dtype: int64"
      ]
     },
     "execution_count": 17,
     "metadata": {},
     "output_type": "execute_result"
    }
   ],
   "source": [
    "test_data.groupby('kind_name')['id'].count()"
   ]
  },
  {
   "cell_type": "code",
   "execution_count": 18,
   "metadata": {
    "collapsed": true
   },
   "outputs": [],
   "source": [
    "def lux_tran(x):\n",
    "    lux_list = ['豪華','裝潢','精緻','雅緻','全新','精美']\n",
    "    n = 0\n",
    "    for word in lux_list:\n",
    "        if word in x:\n",
    "            n += 1 \n",
    "    if n > 0:\n",
    "        return 1\n",
    "    else:\n",
    "        return 0\n",
    "    \n",
    "def up_tran(x):\n",
    "    toproof = ['頂加','頂樓加蓋']\n",
    "    n = 0\n",
    "    for word in toproof:\n",
    "        if word in x:\n",
    "            n += 1\n",
    "    if n > 0:\n",
    "        return 1\n",
    "    else:\n",
    "        return 0"
   ]
  },
  {
   "cell_type": "code",
   "execution_count": 19,
   "metadata": {
    "collapsed": true
   },
   "outputs": [],
   "source": [
    "def mapping(x):\n",
    "    if x == '分租套房':\n",
    "        return '1房0廳1衛'\n",
    "    if x == '獨立套房':\n",
    "        return '1房0廳1衛'\n",
    "    if x == '雅房':\n",
    "        return '1房0廳0衛'\n",
    "    if x == '其他':\n",
    "        return '0房0廳0衛'"
   ]
  },
  {
   "cell_type": "code",
   "execution_count": 20,
   "metadata": {},
   "outputs": [],
   "source": [
    "test_data['lux_dummy'] = test_data['fulladdress'].apply(lux_tran)\n",
    "test_data['up_dummy'] = test_data['fulladdress'].apply(up_tran)\n",
    "\n",
    "test_data['layout2'] = test_data['kind_name'].apply(mapping)\n",
    "test_data['layout_total'] = test_data['layout'].fillna('') + test_data['layout2'].fillna('')\n",
    "test_data['rooms'] = test_data['layout_total'].str.split('房').str[0]\n",
    "test_data['way'] = test_data['layout_total'].str.split('廳').str[1]\n",
    "test_data['way'] = test_data['way'].str.split('衛').str[0]\n",
    "\n",
    "test_data['rooms'][test_data.kind_name =='車位'] = 0\n",
    "test_data['way'][test_data.kind_name =='車位'] = 0\n"
   ]
  },
  {
   "cell_type": "code",
   "execution_count": 21,
   "metadata": {},
   "outputs": [],
   "source": [
    "# 創造 kind_name & sectionname虛擬變數\n",
    "kind_dum = pd.get_dummies(test_data.kind_name)\n",
    "sect_dum = pd.get_dummies(test_data.sectionname)\n",
    "dumms = pd.concat([kind_dum,sect_dum],axis = 1) \n",
    "test_dumm_data = pd.concat([test_data,dumms],axis = 1)"
   ]
  },
  {
   "cell_type": "code",
   "execution_count": 22,
   "metadata": {},
   "outputs": [
    {
     "data": {
      "text/plain": [
       "Index(['其他', '分租套房', '整層住家', '獨立套房', '車位', '雅房'], dtype='object')"
      ]
     },
     "execution_count": 22,
     "metadata": {},
     "output_type": "execute_result"
    }
   ],
   "source": [
    "kind_dum.columns"
   ]
  },
  {
   "cell_type": "code",
   "execution_count": 24,
   "metadata": {
    "collapsed": true
   },
   "outputs": [],
   "source": [
    "# 將living欄資訊轉為虛擬變數\n",
    "living = pd.Series(test_dumm_data.living)\n",
    "living.fillna('0',inplace=True)\n",
    "liv_list = ['depart', 'advstore', 'market', 'night', 'park', 'school', 'hospital']\n",
    "\n",
    "liv2_list = []\n",
    "for i in living:\n",
    "    liv_dict = OrderedDict()\n",
    "    for j in i.split(','):\n",
    "        '''\n",
    "        if j not in liv_list:\n",
    "            liv_list.append(j)\n",
    "        '''\n",
    "        if j in liv_list:\n",
    "            liv_dict['%s' %j] = 1\n",
    "    liv2_list.append(liv_dict)\n",
    "\n",
    "liv_frame = pd.DataFrame(liv2_list)\n",
    "liv_frame.fillna('0',inplace=True)"
   ]
  },
  {
   "cell_type": "code",
   "execution_count": 25,
   "metadata": {
    "collapsed": true
   },
   "outputs": [],
   "source": [
    "# 將condition欄資訊轉為虛擬變數\n",
    "condition = pd.Series(test_dumm_data.condition)\n",
    "condition.fillna('0',inplace=True)\n",
    "cond_list = ['tv','icebox','cold','washer','hotwater','four','broadband','landpost','pet','cook','trabus','balcony_0',\n",
    " 'lease','bed','wardrobe','sofa','bookTable','chair','balcony_1','naturalgas','cartplace','lift','boy','isleastrent',\n",
    " 'girl','teaTable','bookshelf','dinette','watermemachine','gasstove','layout']\n",
    "\n",
    "cond2_list = []\n",
    "for i in condition:\n",
    "    cond_dict = OrderedDict()\n",
    "    for j in i.split(','):\n",
    "        '''\n",
    "        if j not in cond_list:\n",
    "            cond_list.append(j)\n",
    "        '''\n",
    "        if j in cond_list:\n",
    "            cond_dict['%s' %j] = 1\n",
    "    cond2_list.append(cond_dict)\n",
    "\n",
    "cond_frame = pd.DataFrame(cond2_list)\n",
    "cond_frame.fillna('0',inplace=True)"
   ]
  },
  {
   "cell_type": "code",
   "execution_count": 26,
   "metadata": {
    "collapsed": true
   },
   "outputs": [],
   "source": [
    "dum_frame = pd.concat([liv_frame,cond_frame],axis = 1)\n",
    "full = pd.concat([test_dumm_data,dum_frame],axis = 1)"
   ]
  },
  {
   "cell_type": "code",
   "execution_count": 27,
   "metadata": {
    "collapsed": true
   },
   "outputs": [],
   "source": [
    "# 刪除無用的欄位\n",
    "col2drop = ['houseage','id','living','condition','address_img_title','lat','lng','loc_type','min_station_name','min_park_name',\n",
    "            'unit','regionname','kind_name','fulladdress','layout','address','sectionname','room'\n",
    "           ,'watermemachine','gasstove','dinette','teaTable','bookshelf','layout2','layout_total'] #\n",
    "cols = [col for col in full.columns if col not in col2drop]\n",
    "full_data = full[cols]"
   ]
  },
  {
   "cell_type": "code",
   "execution_count": 28,
   "metadata": {
    "collapsed": true
   },
   "outputs": [],
   "source": [
    "full_data = full_data[['area', 'floor', 'allfloor', 'min_station', 'min_park', 'floor_ratio',\n",
    "       'walk_apart', 'first_floor', 'region_cp_mean', 'station_cp_mean',\n",
    "       'ground_space', 'rooms', 'way', 'lux_dummy', 'up_dummy', '其他', '分租套房',\n",
    "       '整層住家', '獨立套房', '車位', '雅房', '中山區', '中正區', '信義區', '內湖區', '北投區', '南港區',\n",
    "       '士林區', '大同區', '大安區', '文山區', '松山區', '萬華區', 'depart', 'advstore',\n",
    "       'market', 'night', 'park', 'school', 'hospital', 'tv', 'icebox', 'cold',\n",
    "       'washer', 'hotwater', 'four', 'broadband', 'landpost', 'pet', 'cook',\n",
    "       'trabus', 'balcony_0', 'lease', 'bed', 'wardrobe', 'sofa', 'bookTable',\n",
    "       'chair', 'naturalgas', 'cartplace', 'balcony_1', 'lift', 'boy',\n",
    "       'isleastrent', 'girl']]"
   ]
  },
  {
   "cell_type": "code",
   "execution_count": 106,
   "metadata": {
    "collapsed": true
   },
   "outputs": [],
   "source": [
    "clf2 = joblib.load('clf.pkl')\n",
    "rig2 = joblib.load('rig.pkl')"
   ]
  },
  {
   "cell_type": "code",
   "execution_count": 107,
   "metadata": {},
   "outputs": [],
   "source": [
    "pred_y = clf2.predict(full_data)"
   ]
  },
  {
   "cell_type": "code",
   "execution_count": 108,
   "metadata": {},
   "outputs": [
    {
     "data": {
      "text/plain": [
       "array([ 13566.85611968,  14326.12432426,   9054.71411047, ...,\n",
       "        79397.2946937 ,  24108.43000129,  26047.5142449 ])"
      ]
     },
     "execution_count": 108,
     "metadata": {},
     "output_type": "execute_result"
    }
   ],
   "source": [
    "pred_y"
   ]
  },
  {
   "cell_type": "code",
   "execution_count": 109,
   "metadata": {},
   "outputs": [],
   "source": [
    "pred_y2 = pred_y.clip(0)"
   ]
  },
  {
   "cell_type": "code",
   "execution_count": 110,
   "metadata": {},
   "outputs": [
    {
     "data": {
      "text/plain": [
       "array([ 13566.85611968,  14326.12432426,   9054.71411047, ...,\n",
       "        79397.2946937 ,  24108.43000129,  26047.5142449 ])"
      ]
     },
     "execution_count": 110,
     "metadata": {},
     "output_type": "execute_result"
    }
   ],
   "source": [
    "pred_y2"
   ]
  },
  {
   "cell_type": "code",
   "execution_count": 111,
   "metadata": {},
   "outputs": [
    {
     "name": "stdout",
     "output_type": "stream",
     "text": [
      "4872 4872\n"
     ]
    }
   ],
   "source": [
    "print(len(test_data),len(pred_y2))"
   ]
  },
  {
   "cell_type": "code",
   "execution_count": 112,
   "metadata": {
    "collapsed": true
   },
   "outputs": [],
   "source": [
    "pred_frame = pd.DataFrame(pred_y2,columns =['predict'] )"
   ]
  },
  {
   "cell_type": "code",
   "execution_count": 113,
   "metadata": {},
   "outputs": [
    {
     "data": {
      "text/html": [
       "<div>\n",
       "<table border=\"1\" class=\"dataframe\">\n",
       "  <thead>\n",
       "    <tr style=\"text-align: right;\">\n",
       "      <th></th>\n",
       "      <th>id</th>\n",
       "      <th>room</th>\n",
       "      <th>area</th>\n",
       "      <th>houseage</th>\n",
       "      <th>living</th>\n",
       "      <th>condition</th>\n",
       "      <th>floor</th>\n",
       "      <th>layout</th>\n",
       "      <th>allfloor</th>\n",
       "      <th>kind_name</th>\n",
       "      <th>...</th>\n",
       "      <th>girl</th>\n",
       "      <th>lease</th>\n",
       "      <th>isleastrent</th>\n",
       "      <th>boy</th>\n",
       "      <th>watermemachine</th>\n",
       "      <th>bookshelf</th>\n",
       "      <th>teaTable</th>\n",
       "      <th>dinette</th>\n",
       "      <th>gasstove</th>\n",
       "      <th>predict</th>\n",
       "    </tr>\n",
       "  </thead>\n",
       "  <tbody>\n",
       "    <tr>\n",
       "      <th>0</th>\n",
       "      <td>948443</td>\n",
       "      <td>0</td>\n",
       "      <td>8.0</td>\n",
       "      <td>0</td>\n",
       "      <td>depart,advstore,market,night,park,school,hospital</td>\n",
       "      <td>tv,icebox,cold,washer,hotwater,four,broadband,...</td>\n",
       "      <td>2</td>\n",
       "      <td>NaN</td>\n",
       "      <td>7</td>\n",
       "      <td>分租套房</td>\n",
       "      <td>...</td>\n",
       "      <td>0</td>\n",
       "      <td>0</td>\n",
       "      <td>0</td>\n",
       "      <td>0</td>\n",
       "      <td>0</td>\n",
       "      <td>0</td>\n",
       "      <td>0</td>\n",
       "      <td>0</td>\n",
       "      <td>0</td>\n",
       "      <td>13566.856120</td>\n",
       "    </tr>\n",
       "    <tr>\n",
       "      <th>1</th>\n",
       "      <td>3736040</td>\n",
       "      <td>0</td>\n",
       "      <td>13.0</td>\n",
       "      <td>0</td>\n",
       "      <td>depart,advstore,market,night,park,school,hospital</td>\n",
       "      <td>tv,icebox,cold,washer,hotwater,four,broadband,...</td>\n",
       "      <td>5</td>\n",
       "      <td>NaN</td>\n",
       "      <td>5</td>\n",
       "      <td>分租套房</td>\n",
       "      <td>...</td>\n",
       "      <td>0</td>\n",
       "      <td>0</td>\n",
       "      <td>0</td>\n",
       "      <td>0</td>\n",
       "      <td>0</td>\n",
       "      <td>0</td>\n",
       "      <td>0</td>\n",
       "      <td>0</td>\n",
       "      <td>0</td>\n",
       "      <td>14326.124324</td>\n",
       "    </tr>\n",
       "    <tr>\n",
       "      <th>2</th>\n",
       "      <td>4308390</td>\n",
       "      <td>0</td>\n",
       "      <td>10.0</td>\n",
       "      <td>0</td>\n",
       "      <td>0</td>\n",
       "      <td>tv,icebox,cold,washer,hotwater,broadband,landp...</td>\n",
       "      <td>5</td>\n",
       "      <td>NaN</td>\n",
       "      <td>7</td>\n",
       "      <td>分租套房</td>\n",
       "      <td>...</td>\n",
       "      <td>0</td>\n",
       "      <td>0</td>\n",
       "      <td>0</td>\n",
       "      <td>0</td>\n",
       "      <td>0</td>\n",
       "      <td>0</td>\n",
       "      <td>0</td>\n",
       "      <td>0</td>\n",
       "      <td>0</td>\n",
       "      <td>9054.714110</td>\n",
       "    </tr>\n",
       "    <tr>\n",
       "      <th>3</th>\n",
       "      <td>4512785</td>\n",
       "      <td>0</td>\n",
       "      <td>4.0</td>\n",
       "      <td>0</td>\n",
       "      <td>0</td>\n",
       "      <td>tv,cold,washer,hotwater,four,broadband,natural...</td>\n",
       "      <td>4</td>\n",
       "      <td>NaN</td>\n",
       "      <td>5</td>\n",
       "      <td>雅房</td>\n",
       "      <td>...</td>\n",
       "      <td>0</td>\n",
       "      <td>0</td>\n",
       "      <td>0</td>\n",
       "      <td>0</td>\n",
       "      <td>0</td>\n",
       "      <td>0</td>\n",
       "      <td>0</td>\n",
       "      <td>0</td>\n",
       "      <td>0</td>\n",
       "      <td>4692.918097</td>\n",
       "    </tr>\n",
       "    <tr>\n",
       "      <th>4</th>\n",
       "      <td>4514061</td>\n",
       "      <td>0</td>\n",
       "      <td>6.0</td>\n",
       "      <td>0</td>\n",
       "      <td>advstore,market,night,park,school,hospital</td>\n",
       "      <td>tv,icebox,cold,washer,hotwater,four,broadband,...</td>\n",
       "      <td>2</td>\n",
       "      <td>NaN</td>\n",
       "      <td>4</td>\n",
       "      <td>分租套房</td>\n",
       "      <td>...</td>\n",
       "      <td>0</td>\n",
       "      <td>0</td>\n",
       "      <td>0</td>\n",
       "      <td>0</td>\n",
       "      <td>0</td>\n",
       "      <td>0</td>\n",
       "      <td>0</td>\n",
       "      <td>0</td>\n",
       "      <td>0</td>\n",
       "      <td>8274.203269</td>\n",
       "    </tr>\n",
       "  </tbody>\n",
       "</table>\n",
       "<p>5 rows × 91 columns</p>\n",
       "</div>"
      ],
      "text/plain": [
       "        id  room  area  houseage  \\\n",
       "0   948443     0   8.0         0   \n",
       "1  3736040     0  13.0         0   \n",
       "2  4308390     0  10.0         0   \n",
       "3  4512785     0   4.0         0   \n",
       "4  4514061     0   6.0         0   \n",
       "\n",
       "                                              living  \\\n",
       "0  depart,advstore,market,night,park,school,hospital   \n",
       "1  depart,advstore,market,night,park,school,hospital   \n",
       "2                                                  0   \n",
       "3                                                  0   \n",
       "4         advstore,market,night,park,school,hospital   \n",
       "\n",
       "                                           condition  floor layout  allfloor  \\\n",
       "0  tv,icebox,cold,washer,hotwater,four,broadband,...      2    NaN         7   \n",
       "1  tv,icebox,cold,washer,hotwater,four,broadband,...      5    NaN         5   \n",
       "2  tv,icebox,cold,washer,hotwater,broadband,landp...      5    NaN         7   \n",
       "3  tv,cold,washer,hotwater,four,broadband,natural...      4    NaN         5   \n",
       "4  tv,icebox,cold,washer,hotwater,four,broadband,...      2    NaN         4   \n",
       "\n",
       "  kind_name      ...      girl lease isleastrent boy watermemachine bookshelf  \\\n",
       "0      分租套房      ...         0     0           0   0              0         0   \n",
       "1      分租套房      ...         0     0           0   0              0         0   \n",
       "2      分租套房      ...         0     0           0   0              0         0   \n",
       "3        雅房      ...         0     0           0   0              0         0   \n",
       "4      分租套房      ...         0     0           0   0              0         0   \n",
       "\n",
       "   teaTable  dinette gasstove       predict  \n",
       "0         0        0        0  13566.856120  \n",
       "1         0        0        0  14326.124324  \n",
       "2         0        0        0   9054.714110  \n",
       "3         0        0        0   4692.918097  \n",
       "4         0        0        0   8274.203269  \n",
       "\n",
       "[5 rows x 91 columns]"
      ]
     },
     "execution_count": 113,
     "metadata": {},
     "output_type": "execute_result"
    }
   ],
   "source": [
    "data_final = full.merge(pred_frame, left_index=True, right_index=True)\n",
    "data_final.head()"
   ]
  },
  {
   "cell_type": "code",
   "execution_count": 114,
   "metadata": {
    "collapsed": true
   },
   "outputs": [],
   "source": [
    "data_final['group5'] = 5"
   ]
  },
  {
   "cell_type": "code",
   "execution_count": 115,
   "metadata": {
    "collapsed": true
   },
   "outputs": [],
   "source": [
    "upload = data_final[['group5','id','predict']]"
   ]
  },
  {
   "cell_type": "code",
   "execution_count": 35,
   "metadata": {},
   "outputs": [
    {
     "data": {
      "text/plain": [
       "4872"
      ]
     },
     "execution_count": 35,
     "metadata": {},
     "output_type": "execute_result"
    }
   ],
   "source": [
    "upload.shape[0]"
   ]
  },
  {
   "cell_type": "code",
   "execution_count": 86,
   "metadata": {},
   "outputs": [
    {
     "data": {
      "text/html": [
       "<div>\n",
       "<table border=\"1\" class=\"dataframe\">\n",
       "  <thead>\n",
       "    <tr style=\"text-align: right;\">\n",
       "      <th></th>\n",
       "      <th>group5</th>\n",
       "      <th>id</th>\n",
       "      <th>predict</th>\n",
       "    </tr>\n",
       "  </thead>\n",
       "  <tbody>\n",
       "    <tr>\n",
       "      <th>0</th>\n",
       "      <td>5</td>\n",
       "      <td>948443</td>\n",
       "      <td>11363.615974</td>\n",
       "    </tr>\n",
       "    <tr>\n",
       "      <th>1</th>\n",
       "      <td>5</td>\n",
       "      <td>3736040</td>\n",
       "      <td>12455.800758</td>\n",
       "    </tr>\n",
       "    <tr>\n",
       "      <th>2</th>\n",
       "      <td>5</td>\n",
       "      <td>4308390</td>\n",
       "      <td>8891.116519</td>\n",
       "    </tr>\n",
       "    <tr>\n",
       "      <th>3</th>\n",
       "      <td>5</td>\n",
       "      <td>4512785</td>\n",
       "      <td>4586.036178</td>\n",
       "    </tr>\n",
       "    <tr>\n",
       "      <th>4</th>\n",
       "      <td>5</td>\n",
       "      <td>4514061</td>\n",
       "      <td>7777.760147</td>\n",
       "    </tr>\n",
       "  </tbody>\n",
       "</table>\n",
       "</div>"
      ],
      "text/plain": [
       "   group5       id       predict\n",
       "0       5   948443  11363.615974\n",
       "1       5  3736040  12455.800758\n",
       "2       5  4308390   8891.116519\n",
       "3       5  4512785   4586.036178\n",
       "4       5  4514061   7777.760147"
      ]
     },
     "execution_count": 86,
     "metadata": {},
     "output_type": "execute_result"
    }
   ],
   "source": [
    "upload.head()"
   ]
  },
  {
   "cell_type": "code",
   "execution_count": 116,
   "metadata": {
    "collapsed": true
   },
   "outputs": [],
   "source": [
    "upload.to_csv(r'C:\\Users\\GN1504301\\Desktop\\predict_group5.csv',index=None,encoding = 'utf-8')"
   ]
  }
 ],
 "metadata": {
  "kernelspec": {
   "display_name": "Python 3",
   "language": "python",
   "name": "python3"
  },
  "language_info": {
   "codemirror_mode": {
    "name": "ipython",
    "version": 3
   },
   "file_extension": ".py",
   "mimetype": "text/x-python",
   "name": "python",
   "nbconvert_exporter": "python",
   "pygments_lexer": "ipython3",
   "version": "3.6.1"
  }
 },
 "nbformat": 4,
 "nbformat_minor": 1
}
